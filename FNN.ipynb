{
 "cells": [
  {
   "cell_type": "code",
   "execution_count": 1,
   "metadata": {
    "colab": {
     "base_uri": "https://localhost:8080/"
    },
    "id": "2jiMB2b_oBIQ",
    "outputId": "e1534a8d-c458-4a24-a444-47e57007072b",
    "tags": []
   },
   "outputs": [
    {
     "name": "stdout",
     "output_type": "stream",
     "text": [
      "(60000, 28, 28) (60000,) ||| (10000, 28, 28) (10000,)\n"
     ]
    }
   ],
   "source": [
    "import numpy as np\n",
    "import keras\n",
    "from keras import layers\n",
    "import matplotlib.pyplot as plt\n",
    "import numpy as np\n",
    "import matplotlib.pyplot as plt\n",
    "from tensorflow.keras.utils import to_categorical\n",
    "from tensorflow.keras.models import Sequential\n",
    "from tensorflow.keras.layers import Dense\n",
    "from matplotlib import colors\n",
    "import math\n",
    "# Load the data and split it between train and test sets\n",
    "(x_train, y_train_digits), (x_test, y_test_digits) = keras.datasets.mnist.load_data()\n",
    "print(np.shape(x_train), np.shape(y_train_digits), \"|||\", np.shape(x_test), np.shape(y_test_digits))\n"
   ]
  },
  {
   "cell_type": "markdown",
   "metadata": {
    "id": "3DGsS7bFqXXD"
   },
   "source": [
    "# Import MNIST database and change its shape"
   ]
  },
  {
   "cell_type": "code",
   "execution_count": 2,
   "metadata": {
    "id": "haE2trFAn80w",
    "tags": []
   },
   "outputs": [],
   "source": [
    "size_input = 784\n",
    "size_hidden = 20\n",
    "size_output = 10"
   ]
  },
  {
   "cell_type": "code",
   "execution_count": 3,
   "metadata": {
    "id": "AhcIaNpzoYnW",
    "tags": []
   },
   "outputs": [],
   "source": [
    "x_train = x_train.reshape(np.size(x_train,0),-1)/255.0\n",
    "x_test = x_test.reshape(np.size(x_test,0),-1)/255.0\n"
   ]
  },
  {
   "cell_type": "code",
   "execution_count": 4,
   "metadata": {
    "id": "x405ZA4ApO2B",
    "tags": []
   },
   "outputs": [],
   "source": [
    "y_train = keras.utils.to_categorical(y_train_digits, size_output)\n",
    "y_test = keras.utils.to_categorical(y_test_digits, size_output)"
   ]
  },
  {
   "cell_type": "code",
   "execution_count": 5,
   "metadata": {
    "colab": {
     "base_uri": "https://localhost:8080/"
    },
    "id": "3IqpRjG8obxD",
    "outputId": "8003782b-7387-41e7-a5f7-cbb35601edcb",
    "tags": []
   },
   "outputs": [
    {
     "name": "stdout",
     "output_type": "stream",
     "text": [
      "(60000, 784) (60000, 10) ||| (10000, 784) (10000, 10)\n"
     ]
    }
   ],
   "source": [
    "print(np.shape(x_train), np.shape(y_train), \"|||\", np.shape(x_test), np.shape(y_test))"
   ]
  },
  {
   "cell_type": "markdown",
   "metadata": {
    "id": "lZB9B5Xmqdvp"
   },
   "source": [
    "# FNN training"
   ]
  },
  {
   "cell_type": "markdown",
   "metadata": {
    "id": "ZqOgbUvPqih4"
   },
   "source": [
    "## Create the network"
   ]
  },
  {
   "cell_type": "code",
   "execution_count": 6,
   "metadata": {
    "id": "f-JbASSLpOdT",
    "tags": []
   },
   "outputs": [],
   "source": [
    "def func_initialize_network(n_inputs, n_hidden, n_outputs):\n",
    "  network = {'W1' : np.random.randn(n_inputs,n_hidden),\n",
    "             'W2' : np.random.randn(n_hidden,n_outputs),\n",
    "             'A1' : 0,\n",
    "             'A2' : 0,\n",
    "             'Z1' : 0,\n",
    "             'Z2' : 0}\n",
    "\n",
    "  return network"
   ]
  },
  {
   "cell_type": "markdown",
   "metadata": {
    "id": "8Eh6lZsvuKU3"
   },
   "source": [
    "## Activation functions and their derivatives"
   ]
  },
  {
   "cell_type": "code",
   "execution_count": 7,
   "metadata": {
    "id": "x94Eu-VKtYas",
    "tags": []
   },
   "outputs": [],
   "source": [
    "def func_sigmoid (x) : # Sigmoid function\n",
    "  return 1/(1+np.exp(-x))"
   ]
  },
  {
   "cell_type": "code",
   "execution_count": 8,
   "metadata": {
    "id": "2YSfA9JUte8K",
    "tags": []
   },
   "outputs": [],
   "source": [
    "def func_sigmoid_derivative (x) : # Its derivative\n",
    "  sigm = func_sigmoid (x)\n",
    "  return sigm*(1-sigm)"
   ]
  },
  {
   "cell_type": "code",
   "execution_count": 9,
   "metadata": {
    "id": "Kk-G8GPRutFO",
    "tags": []
   },
   "outputs": [],
   "source": [
    "def func_softmax (x) : # Softmax function\n",
    "  return np.exp(x)/np.sum(np.exp(x),axis=1,keepdims=True)"
   ]
  },
  {
   "cell_type": "code",
   "execution_count": 10,
   "metadata": {
    "id": "lyKplMkK3IF7",
    "tags": []
   },
   "outputs": [],
   "source": [
    "def func_softmax_derivative (x) : # Its derivative\n",
    "  I = np.eye(x.shape[0])\n",
    "  soft_x = func_softmax(x)\n",
    "  return soft_x * (I - soft_x.T)"
   ]
  },
  {
   "cell_type": "markdown",
   "metadata": {},
   "source": [
    "## Noise realization"
   ]
  },
  {
   "cell_type": "code",
   "execution_count": 11,
   "metadata": {
    "tags": []
   },
   "outputs": [
    {
     "name": "stdout",
     "output_type": "stream",
     "text": [
      "(60000, 20) (10000, 20)\n"
     ]
    }
   ],
   "source": [
    "#uncorr (uncommon)\n",
    "#noise_training=np.random.normal(0,1,(60000,size_hidden))\n",
    "#noise_testing=np.random.normal(0,1,(10000,size_hidden))\n",
    "#corr (common)\n",
    "noise_training=np.dot(np.random.normal(0,1,(60000,1)), np.ones((1,size_hidden)))\n",
    "noise_testing=np.dot(np.random.normal(0,1,(10000,1)), np.ones((1,size_hidden)))\n",
    "print(np.shape(noise_training), np.shape(noise_testing))\n"
   ]
  },
  {
   "cell_type": "markdown",
   "metadata": {
    "id": "ozyLpSYLuNFo"
   },
   "source": [
    "## Forward propagation"
   ]
  },
  {
   "cell_type": "code",
   "execution_count": 12,
   "metadata": {
    "id": "rUfImlJ0q1FA",
    "tags": []
   },
   "outputs": [],
   "source": [
    "def forward_propagation(input_data, my_net_old, noise):\n",
    "  my_net = dict(my_net_old)\n",
    "  D=0.5\n",
    "  my_net['Z1'] = np.dot(input_data, my_net['W1'])\n",
    "  my_net['A1'] = func_sigmoid(my_net['Z1'])*(1+np.sqrt(2*D)*noise)   #+np.sqrt(2*D)*noise   #*(1+np.sqrt(2*D)*noise)      #   +np.sqrt(2*D)*noise #        + noise to hidden layer\n",
    "  my_net['Z2'] = np.dot(my_net['A1'], my_net['W2'])            #*(1+np.sqrt(2*D)*noise)                                                                + noise to output layer\n",
    "  my_net['A2'] = func_softmax(my_net['Z2'])\n",
    "  output_data = np.array(my_net['A2'])\n",
    "  return output_data, my_net"
   ]
  },
  {
   "cell_type": "markdown",
   "metadata": {
    "id": "2t19Ql-VuWE5"
   },
   "source": [
    "## Loss functions"
   ]
  },
  {
   "cell_type": "code",
   "execution_count": 13,
   "metadata": {
    "id": "Tlj_qXaXvM3L",
    "tags": []
   },
   "outputs": [],
   "source": [
    "def func_loss_function_sigmoid(y_true, y_predicted) :\n",
    "  L = np.mean(-y_true*np.log(y_predicted) - (1-y_true)*np.log(1-y_predicted), axis=0)\n",
    "  return L"
   ]
  },
  {
   "cell_type": "code",
   "execution_count": 14,
   "metadata": {
    "id": "83CgYNpoxK33",
    "tags": []
   },
   "outputs": [],
   "source": [
    "def func_loss_function_softmax(y_true, y_predicted) :\n",
    "  L = -np.mean(y_true * np.log(y_predicted + 1e-8))\n",
    "  return L"
   ]
  },
  {
   "cell_type": "markdown",
   "metadata": {
    "id": "JQc1LbCuuZOK"
   },
   "source": [
    "## Accuracy"
   ]
  },
  {
   "cell_type": "code",
   "execution_count": 15,
   "metadata": {
    "id": "pZ2F9HRRvMvX",
    "tags": []
   },
   "outputs": [],
   "source": [
    "def calculate_accuracy(y_true, y_predicted) : # Percentage accuracy\n",
    "  acc = np.mean(np.argmax(y_true, axis=1) == np.argmax(y_predicted, axis=1))*100\n",
    "  return acc"
   ]
  },
  {
   "cell_type": "code",
   "execution_count": 16,
   "metadata": {
    "id": "E6DhlJqW1n4Q",
    "tags": []
   },
   "outputs": [],
   "source": [
    "def save_accuracy_loss(y_true, y_predicted, acc_list=[], loss_list=[]) :\n",
    "  loss_val = func_loss_function_softmax(y_true, y_predicted)\n",
    "  acc_val = calculate_accuracy(y_true, y_predicted)\n",
    "\n",
    "  acc_list.append(acc_val)\n",
    "  loss_list.append(loss_val)\n",
    "\n",
    "  return acc_list, loss_list"
   ]
  },
  {
   "cell_type": "markdown",
   "metadata": {
    "id": "o9uh3NeSHilZ"
   },
   "source": [
    "## Back propagation"
   ]
  },
  {
   "cell_type": "code",
   "execution_count": 17,
   "metadata": {
    "id": "Fg0mWfnnHk-A",
    "tags": []
   },
   "outputs": [],
   "source": [
    "def backward_propagation(input_data, target_output, my_net, learning_rate):\n",
    "  N = np.size(target_output,0)\n",
    "\n",
    "  dZ = my_net['A2'] - target_output\n",
    "  dW = np.dot(my_net['A1'].T, dZ) / N\n",
    "  dW2 = np.array(dW)\n",
    "  dAPrev = dZ.dot(my_net['W2'].T)\n",
    "  dZ = dAPrev * func_sigmoid_derivative(my_net['Z1'])\n",
    "\n",
    "  dW = np.dot(input_data.T, dZ) / N  # my_net['A0']=input_data\n",
    "  dW1 = np.array(dW)\n",
    "  #dAPrev = dZ.dot(my_net['W1'].T)\n",
    "  #db = np.sum(dZ, axis=1, keepdims=True) / N\n",
    "\n",
    "  # Update the connection matrices\n",
    "  my_net['W2'] = my_net['W2'] - learning_rate * dW2\n",
    "  my_net['W1'] = my_net['W1'] - learning_rate * dW1\n",
    "\n",
    "  return my_net"
   ]
  },
  {
   "cell_type": "markdown",
   "metadata": {
    "id": "QTtjxMNobGmq"
   },
   "source": [
    "## Training"
   ]
  },
  {
   "cell_type": "code",
   "execution_count": 23,
   "metadata": {
    "colab": {
     "base_uri": "https://localhost:8080/"
    },
    "collapsed": true,
    "id": "M8cXNuC8dVAo",
    "jupyter": {
     "outputs_hidden": true
    },
    "outputId": "8c9a104a-944d-40f7-c480-9885be98ec3b",
    "tags": []
   },
   "outputs": [
    {
     "name": "stdout",
     "output_type": "stream",
     "text": [
      "0 | acc.tr. = 10.04% | loss.tr. = 0.52 | acc.te. = 9.77% | loss.te. = 0.53\n",
      "1 | acc.tr. = 18.56% | loss.tr. = 0.68 | acc.te. = 18.05% | loss.te. = 0.69\n",
      "2 | acc.tr. = 14.61% | loss.tr. = 0.79 | acc.te. = 14.86% | loss.te. = 0.79\n",
      "3 | acc.tr. = 26.00% | loss.tr. = 0.65 | acc.te. = 26.13% | loss.te. = 0.65\n",
      "4 | acc.tr. = 24.42% | loss.tr. = 0.60 | acc.te. = 24.58% | loss.te. = 0.61\n",
      "5 | acc.tr. = 26.64% | loss.tr. = 0.33 | acc.te. = 26.48% | loss.te. = 0.32\n",
      "6 | acc.tr. = 38.12% | loss.tr. = 0.23 | acc.te. = 38.07% | loss.te. = 0.23\n",
      "7 | acc.tr. = 45.12% | loss.tr. = 0.19 | acc.te. = 45.17% | loss.te. = 0.19\n",
      "8 | acc.tr. = 49.69% | loss.tr. = 0.18 | acc.te. = 49.56% | loss.te. = 0.18\n",
      "9 | acc.tr. = 51.81% | loss.tr. = 0.18 | acc.te. = 52.02% | loss.te. = 0.18\n",
      "10 | acc.tr. = 53.53% | loss.tr. = 0.18 | acc.te. = 53.95% | loss.te. = 0.18\n",
      "11 | acc.tr. = 54.98% | loss.tr. = 0.17 | acc.te. = 55.40% | loss.te. = 0.17\n",
      "12 | acc.tr. = 56.12% | loss.tr. = 0.17 | acc.te. = 56.44% | loss.te. = 0.17\n",
      "13 | acc.tr. = 57.06% | loss.tr. = 0.17 | acc.te. = 57.39% | loss.te. = 0.17\n",
      "14 | acc.tr. = 57.29% | loss.tr. = 0.17 | acc.te. = 57.62% | loss.te. = 0.17\n",
      "15 | acc.tr. = 56.84% | loss.tr. = 0.17 | acc.te. = 56.95% | loss.te. = 0.17\n",
      "16 | acc.tr. = 51.48% | loss.tr. = 0.19 | acc.te. = 52.15% | loss.te. = 0.18\n",
      "17 | acc.tr. = 42.85% | loss.tr. = 0.22 | acc.te. = 43.28% | loss.te. = 0.22\n",
      "18 | acc.tr. = 45.65% | loss.tr. = 0.25 | acc.te. = 45.65% | loss.te. = 0.25\n",
      "19 | acc.tr. = 51.02% | loss.tr. = 0.21 | acc.te. = 50.53% | loss.te. = 0.21\n",
      "20 | acc.tr. = 49.80% | loss.tr. = 0.19 | acc.te. = 50.70% | loss.te. = 0.19\n",
      "21 | acc.tr. = 52.92% | loss.tr. = 0.20 | acc.te. = 52.33% | loss.te. = 0.20\n",
      "22 | acc.tr. = 49.26% | loss.tr. = 0.20 | acc.te. = 49.38% | loss.te. = 0.20\n",
      "23 | acc.tr. = 54.58% | loss.tr. = 0.21 | acc.te. = 54.34% | loss.te. = 0.21\n",
      "24 | acc.tr. = 57.40% | loss.tr. = 0.17 | acc.te. = 58.04% | loss.te. = 0.16\n",
      "25 | acc.tr. = 57.37% | loss.tr. = 0.17 | acc.te. = 57.23% | loss.te. = 0.17\n",
      "26 | acc.tr. = 52.07% | loss.tr. = 0.19 | acc.te. = 52.32% | loss.te. = 0.19\n",
      "27 | acc.tr. = 51.16% | loss.tr. = 0.22 | acc.te. = 51.39% | loss.te. = 0.21\n",
      "28 | acc.tr. = 53.68% | loss.tr. = 0.19 | acc.te. = 54.35% | loss.te. = 0.19\n",
      "29 | acc.tr. = 55.32% | loss.tr. = 0.17 | acc.te. = 54.95% | loss.te. = 0.17\n",
      "30 | acc.tr. = 52.18% | loss.tr. = 0.18 | acc.te. = 52.58% | loss.te. = 0.18\n",
      "31 | acc.tr. = 55.35% | loss.tr. = 0.21 | acc.te. = 55.11% | loss.te. = 0.20\n",
      "32 | acc.tr. = 57.32% | loss.tr. = 0.17 | acc.te. = 58.03% | loss.te. = 0.16\n",
      "33 | acc.tr. = 57.19% | loss.tr. = 0.17 | acc.te. = 57.22% | loss.te. = 0.17\n",
      "34 | acc.tr. = 56.15% | loss.tr. = 0.18 | acc.te. = 56.47% | loss.te. = 0.18\n",
      "35 | acc.tr. = 59.03% | loss.tr. = 0.18 | acc.te. = 58.83% | loss.te. = 0.18\n",
      "36 | acc.tr. = 58.15% | loss.tr. = 0.16 | acc.te. = 58.58% | loss.te. = 0.16\n",
      "37 | acc.tr. = 56.65% | loss.tr. = 0.18 | acc.te. = 57.18% | loss.te. = 0.18\n",
      "38 | acc.tr. = 55.97% | loss.tr. = 0.19 | acc.te. = 56.27% | loss.te. = 0.19\n",
      "39 | acc.tr. = 57.04% | loss.tr. = 0.18 | acc.te. = 57.67% | loss.te. = 0.18\n",
      "40 | acc.tr. = 55.00% | loss.tr. = 0.18 | acc.te. = 55.08% | loss.te. = 0.17\n",
      "41 | acc.tr. = 52.81% | loss.tr. = 0.20 | acc.te. = 53.23% | loss.te. = 0.20\n",
      "42 | acc.tr. = 58.83% | loss.tr. = 0.19 | acc.te. = 59.16% | loss.te. = 0.18\n",
      "43 | acc.tr. = 62.80% | loss.tr. = 0.16 | acc.te. = 63.35% | loss.te. = 0.16\n",
      "44 | acc.tr. = 62.11% | loss.tr. = 0.16 | acc.te. = 62.49% | loss.te. = 0.15\n",
      "45 | acc.tr. = 62.04% | loss.tr. = 0.17 | acc.te. = 62.42% | loss.te. = 0.16\n",
      "46 | acc.tr. = 61.86% | loss.tr. = 0.16 | acc.te. = 62.45% | loss.te. = 0.16\n",
      "47 | acc.tr. = 60.57% | loss.tr. = 0.17 | acc.te. = 61.20% | loss.te. = 0.17\n",
      "48 | acc.tr. = 58.76% | loss.tr. = 0.16 | acc.te. = 59.77% | loss.te. = 0.16\n",
      "49 | acc.tr. = 57.49% | loss.tr. = 0.19 | acc.te. = 58.52% | loss.te. = 0.19\n",
      "50 | acc.tr. = 60.25% | loss.tr. = 0.16 | acc.te. = 61.49% | loss.te. = 0.16\n",
      "51 | acc.tr. = 59.72% | loss.tr. = 0.17 | acc.te. = 60.73% | loss.te. = 0.17\n",
      "52 | acc.tr. = 60.82% | loss.tr. = 0.16 | acc.te. = 62.21% | loss.te. = 0.16\n",
      "53 | acc.tr. = 60.97% | loss.tr. = 0.17 | acc.te. = 61.98% | loss.te. = 0.17\n",
      "54 | acc.tr. = 63.47% | loss.tr. = 0.15 | acc.te. = 64.44% | loss.te. = 0.15\n",
      "55 | acc.tr. = 62.30% | loss.tr. = 0.16 | acc.te. = 63.04% | loss.te. = 0.16\n",
      "56 | acc.tr. = 62.72% | loss.tr. = 0.16 | acc.te. = 63.68% | loss.te. = 0.15\n",
      "57 | acc.tr. = 61.60% | loss.tr. = 0.17 | acc.te. = 62.15% | loss.te. = 0.17\n",
      "58 | acc.tr. = 63.65% | loss.tr. = 0.15 | acc.te. = 64.94% | loss.te. = 0.15\n",
      "59 | acc.tr. = 61.74% | loss.tr. = 0.16 | acc.te. = 62.07% | loss.te. = 0.16\n",
      "60 | acc.tr. = 62.00% | loss.tr. = 0.16 | acc.te. = 62.87% | loss.te. = 0.15\n",
      "61 | acc.tr. = 61.18% | loss.tr. = 0.17 | acc.te. = 61.25% | loss.te. = 0.17\n",
      "62 | acc.tr. = 64.21% | loss.tr. = 0.15 | acc.te. = 65.30% | loss.te. = 0.15\n",
      "63 | acc.tr. = 63.78% | loss.tr. = 0.16 | acc.te. = 64.37% | loss.te. = 0.16\n",
      "64 | acc.tr. = 64.57% | loss.tr. = 0.15 | acc.te. = 65.65% | loss.te. = 0.15\n",
      "65 | acc.tr. = 63.49% | loss.tr. = 0.16 | acc.te. = 64.02% | loss.te. = 0.16\n",
      "66 | acc.tr. = 65.45% | loss.tr. = 0.15 | acc.te. = 66.31% | loss.te. = 0.15\n",
      "67 | acc.tr. = 64.14% | loss.tr. = 0.16 | acc.te. = 64.86% | loss.te. = 0.16\n",
      "68 | acc.tr. = 65.26% | loss.tr. = 0.15 | acc.te. = 66.25% | loss.te. = 0.15\n",
      "69 | acc.tr. = 63.84% | loss.tr. = 0.16 | acc.te. = 64.66% | loss.te. = 0.16\n",
      "70 | acc.tr. = 65.32% | loss.tr. = 0.15 | acc.te. = 66.36% | loss.te. = 0.15\n",
      "71 | acc.tr. = 64.10% | loss.tr. = 0.16 | acc.te. = 64.87% | loss.te. = 0.16\n",
      "72 | acc.tr. = 65.42% | loss.tr. = 0.15 | acc.te. = 66.38% | loss.te. = 0.15\n",
      "73 | acc.tr. = 64.28% | loss.tr. = 0.16 | acc.te. = 65.09% | loss.te. = 0.16\n",
      "74 | acc.tr. = 65.79% | loss.tr. = 0.15 | acc.te. = 66.75% | loss.te. = 0.15\n",
      "75 | acc.tr. = 64.86% | loss.tr. = 0.15 | acc.te. = 65.66% | loss.te. = 0.15\n",
      "76 | acc.tr. = 66.34% | loss.tr. = 0.15 | acc.te. = 67.10% | loss.te. = 0.15\n",
      "77 | acc.tr. = 65.55% | loss.tr. = 0.15 | acc.te. = 66.48% | loss.te. = 0.15\n",
      "78 | acc.tr. = 66.77% | loss.tr. = 0.15 | acc.te. = 67.54% | loss.te. = 0.14\n",
      "79 | acc.tr. = 66.02% | loss.tr. = 0.15 | acc.te. = 66.94% | loss.te. = 0.15\n",
      "80 | acc.tr. = 67.09% | loss.tr. = 0.15 | acc.te. = 67.99% | loss.te. = 0.14\n",
      "81 | acc.tr. = 66.33% | loss.tr. = 0.15 | acc.te. = 67.17% | loss.te. = 0.15\n",
      "82 | acc.tr. = 67.35% | loss.tr. = 0.15 | acc.te. = 68.40% | loss.te. = 0.14\n",
      "83 | acc.tr. = 66.62% | loss.tr. = 0.15 | acc.te. = 67.39% | loss.te. = 0.15\n",
      "84 | acc.tr. = 67.57% | loss.tr. = 0.14 | acc.te. = 68.62% | loss.te. = 0.14\n",
      "85 | acc.tr. = 66.91% | loss.tr. = 0.15 | acc.te. = 67.54% | loss.te. = 0.15\n",
      "86 | acc.tr. = 67.87% | loss.tr. = 0.14 | acc.te. = 68.89% | loss.te. = 0.14\n",
      "87 | acc.tr. = 67.22% | loss.tr. = 0.15 | acc.te. = 67.80% | loss.te. = 0.15\n",
      "88 | acc.tr. = 68.12% | loss.tr. = 0.14 | acc.te. = 69.15% | loss.te. = 0.14\n",
      "89 | acc.tr. = 67.47% | loss.tr. = 0.15 | acc.te. = 67.99% | loss.te. = 0.15\n",
      "90 | acc.tr. = 68.34% | loss.tr. = 0.14 | acc.te. = 69.37% | loss.te. = 0.14\n",
      "91 | acc.tr. = 67.67% | loss.tr. = 0.15 | acc.te. = 68.29% | loss.te. = 0.15\n",
      "92 | acc.tr. = 68.48% | loss.tr. = 0.14 | acc.te. = 69.49% | loss.te. = 0.14\n",
      "93 | acc.tr. = 67.79% | loss.tr. = 0.15 | acc.te. = 68.37% | loss.te. = 0.15\n",
      "94 | acc.tr. = 68.50% | loss.tr. = 0.14 | acc.te. = 69.44% | loss.te. = 0.14\n",
      "95 | acc.tr. = 67.80% | loss.tr. = 0.15 | acc.te. = 68.54% | loss.te. = 0.15\n",
      "96 | acc.tr. = 68.34% | loss.tr. = 0.14 | acc.te. = 69.31% | loss.te. = 0.14\n",
      "97 | acc.tr. = 67.35% | loss.tr. = 0.15 | acc.te. = 68.37% | loss.te. = 0.15\n",
      "98 | acc.tr. = 67.73% | loss.tr. = 0.14 | acc.te. = 68.48% | loss.te. = 0.14\n",
      "99 | acc.tr. = 66.23% | loss.tr. = 0.15 | acc.te. = 67.24% | loss.te. = 0.15\n",
      "100 | acc.tr. = 65.98% | loss.tr. = 0.15 | acc.te. = 66.92% | loss.te. = 0.14\n",
      "101 | acc.tr. = 64.86% | loss.tr. = 0.16 | acc.te. = 65.56% | loss.te. = 0.16\n",
      "102 | acc.tr. = 65.66% | loss.tr. = 0.15 | acc.te. = 66.74% | loss.te. = 0.15\n",
      "103 | acc.tr. = 66.19% | loss.tr. = 0.16 | acc.te. = 66.75% | loss.te. = 0.16\n",
      "104 | acc.tr. = 68.23% | loss.tr. = 0.14 | acc.te. = 69.11% | loss.te. = 0.14\n",
      "105 | acc.tr. = 69.41% | loss.tr. = 0.14 | acc.te. = 70.25% | loss.te. = 0.14\n",
      "106 | acc.tr. = 70.53% | loss.tr. = 0.14 | acc.te. = 71.38% | loss.te. = 0.14\n",
      "107 | acc.tr. = 71.31% | loss.tr. = 0.14 | acc.te. = 72.09% | loss.te. = 0.14\n",
      "108 | acc.tr. = 71.56% | loss.tr. = 0.13 | acc.te. = 72.68% | loss.te. = 0.13\n",
      "109 | acc.tr. = 71.92% | loss.tr. = 0.13 | acc.te. = 72.64% | loss.te. = 0.13\n",
      "110 | acc.tr. = 71.69% | loss.tr. = 0.13 | acc.te. = 72.58% | loss.te. = 0.13\n",
      "111 | acc.tr. = 71.53% | loss.tr. = 0.13 | acc.te. = 72.19% | loss.te. = 0.13\n",
      "112 | acc.tr. = 70.84% | loss.tr. = 0.14 | acc.te. = 71.76% | loss.te. = 0.13\n",
      "113 | acc.tr. = 69.60% | loss.tr. = 0.14 | acc.te. = 70.78% | loss.te. = 0.14\n",
      "114 | acc.tr. = 67.99% | loss.tr. = 0.14 | acc.te. = 68.84% | loss.te. = 0.14\n",
      "115 | acc.tr. = 66.21% | loss.tr. = 0.15 | acc.te. = 67.14% | loss.te. = 0.15\n",
      "116 | acc.tr. = 66.94% | loss.tr. = 0.15 | acc.te. = 67.93% | loss.te. = 0.15\n",
      "117 | acc.tr. = 66.24% | loss.tr. = 0.15 | acc.te. = 67.17% | loss.te. = 0.15\n",
      "118 | acc.tr. = 68.16% | loss.tr. = 0.14 | acc.te. = 69.16% | loss.te. = 0.14\n",
      "119 | acc.tr. = 68.01% | loss.tr. = 0.15 | acc.te. = 68.65% | loss.te. = 0.15\n",
      "120 | acc.tr. = 69.38% | loss.tr. = 0.14 | acc.te. = 70.15% | loss.te. = 0.14\n",
      "121 | acc.tr. = 69.46% | loss.tr. = 0.14 | acc.te. = 70.23% | loss.te. = 0.14\n",
      "122 | acc.tr. = 70.47% | loss.tr. = 0.14 | acc.te. = 71.32% | loss.te. = 0.14\n",
      "123 | acc.tr. = 70.39% | loss.tr. = 0.14 | acc.te. = 71.36% | loss.te. = 0.14\n",
      "124 | acc.tr. = 71.03% | loss.tr. = 0.14 | acc.te. = 71.97% | loss.te. = 0.14\n",
      "125 | acc.tr. = 70.53% | loss.tr. = 0.14 | acc.te. = 71.43% | loss.te. = 0.14\n",
      "126 | acc.tr. = 70.83% | loss.tr. = 0.14 | acc.te. = 71.68% | loss.te. = 0.14\n",
      "127 | acc.tr. = 69.95% | loss.tr. = 0.14 | acc.te. = 70.94% | loss.te. = 0.14\n",
      "128 | acc.tr. = 70.16% | loss.tr. = 0.14 | acc.te. = 70.74% | loss.te. = 0.14\n",
      "129 | acc.tr. = 69.05% | loss.tr. = 0.14 | acc.te. = 69.95% | loss.te. = 0.14\n",
      "130 | acc.tr. = 69.48% | loss.tr. = 0.14 | acc.te. = 70.06% | loss.te. = 0.14\n",
      "131 | acc.tr. = 68.54% | loss.tr. = 0.15 | acc.te. = 69.32% | loss.te. = 0.15\n",
      "132 | acc.tr. = 69.46% | loss.tr. = 0.14 | acc.te. = 69.87% | loss.te. = 0.14\n",
      "133 | acc.tr. = 68.67% | loss.tr. = 0.15 | acc.te. = 69.52% | loss.te. = 0.14\n",
      "134 | acc.tr. = 69.40% | loss.tr. = 0.14 | acc.te. = 69.99% | loss.te. = 0.14\n",
      "135 | acc.tr. = 67.73% | loss.tr. = 0.15 | acc.te. = 68.73% | loss.te. = 0.14\n",
      "136 | acc.tr. = 66.36% | loss.tr. = 0.15 | acc.te. = 67.22% | loss.te. = 0.15\n",
      "137 | acc.tr. = 61.70% | loss.tr. = 0.16 | acc.te. = 62.68% | loss.te. = 0.16\n",
      "138 | acc.tr. = 63.49% | loss.tr. = 0.19 | acc.te. = 63.97% | loss.te. = 0.19\n",
      "139 | acc.tr. = 66.69% | loss.tr. = 0.15 | acc.te. = 67.76% | loss.te. = 0.15\n",
      "140 | acc.tr. = 69.69% | loss.tr. = 0.14 | acc.te. = 70.66% | loss.te. = 0.14\n",
      "141 | acc.tr. = 71.27% | loss.tr. = 0.14 | acc.te. = 71.98% | loss.te. = 0.14\n",
      "142 | acc.tr. = 72.65% | loss.tr. = 0.13 | acc.te. = 73.35% | loss.te. = 0.13\n",
      "143 | acc.tr. = 72.65% | loss.tr. = 0.13 | acc.te. = 73.48% | loss.te. = 0.13\n",
      "144 | acc.tr. = 73.27% | loss.tr. = 0.13 | acc.te. = 73.82% | loss.te. = 0.13\n",
      "145 | acc.tr. = 72.94% | loss.tr. = 0.13 | acc.te. = 73.52% | loss.te. = 0.13\n",
      "146 | acc.tr. = 73.07% | loss.tr. = 0.13 | acc.te. = 73.75% | loss.te. = 0.13\n",
      "147 | acc.tr. = 72.38% | loss.tr. = 0.13 | acc.te. = 72.98% | loss.te. = 0.13\n",
      "148 | acc.tr. = 72.06% | loss.tr. = 0.13 | acc.te. = 72.47% | loss.te. = 0.13\n",
      "149 | acc.tr. = 69.95% | loss.tr. = 0.14 | acc.te. = 70.91% | loss.te. = 0.14\n",
      "150 | acc.tr. = 68.93% | loss.tr. = 0.14 | acc.te. = 69.45% | loss.te. = 0.14\n",
      "151 | acc.tr. = 66.32% | loss.tr. = 0.16 | acc.te. = 66.86% | loss.te. = 0.15\n",
      "152 | acc.tr. = 67.59% | loss.tr. = 0.15 | acc.te. = 68.02% | loss.te. = 0.15\n",
      "153 | acc.tr. = 66.14% | loss.tr. = 0.15 | acc.te. = 66.77% | loss.te. = 0.15\n",
      "154 | acc.tr. = 68.33% | loss.tr. = 0.15 | acc.te. = 68.69% | loss.te. = 0.15\n",
      "155 | acc.tr. = 68.58% | loss.tr. = 0.15 | acc.te. = 69.49% | loss.te. = 0.14\n",
      "156 | acc.tr. = 70.33% | loss.tr. = 0.14 | acc.te. = 71.01% | loss.te. = 0.14\n",
      "157 | acc.tr. = 69.92% | loss.tr. = 0.14 | acc.te. = 70.51% | loss.te. = 0.14\n",
      "158 | acc.tr. = 70.01% | loss.tr. = 0.14 | acc.te. = 70.81% | loss.te. = 0.14\n",
      "159 | acc.tr. = 68.61% | loss.tr. = 0.14 | acc.te. = 69.16% | loss.te. = 0.14\n",
      "160 | acc.tr. = 68.10% | loss.tr. = 0.15 | acc.te. = 68.90% | loss.te. = 0.15\n",
      "161 | acc.tr. = 67.12% | loss.tr. = 0.15 | acc.te. = 67.48% | loss.te. = 0.14\n",
      "162 | acc.tr. = 67.51% | loss.tr. = 0.16 | acc.te. = 68.11% | loss.te. = 0.16\n",
      "163 | acc.tr. = 68.83% | loss.tr. = 0.14 | acc.te. = 69.51% | loss.te. = 0.14\n",
      "164 | acc.tr. = 70.42% | loss.tr. = 0.14 | acc.te. = 71.19% | loss.te. = 0.14\n",
      "165 | acc.tr. = 71.42% | loss.tr. = 0.14 | acc.te. = 72.24% | loss.te. = 0.13\n",
      "166 | acc.tr. = 72.86% | loss.tr. = 0.13 | acc.te. = 73.48% | loss.te. = 0.13\n",
      "167 | acc.tr. = 72.82% | loss.tr. = 0.13 | acc.te. = 73.61% | loss.te. = 0.13\n",
      "168 | acc.tr. = 73.47% | loss.tr. = 0.13 | acc.te. = 73.95% | loss.te. = 0.13\n",
      "169 | acc.tr. = 73.00% | loss.tr. = 0.13 | acc.te. = 73.71% | loss.te. = 0.13\n",
      "170 | acc.tr. = 72.94% | loss.tr. = 0.13 | acc.te. = 73.48% | loss.te. = 0.13\n",
      "171 | acc.tr. = 71.68% | loss.tr. = 0.13 | acc.te. = 72.26% | loss.te. = 0.13\n",
      "172 | acc.tr. = 70.84% | loss.tr. = 0.14 | acc.te. = 71.14% | loss.te. = 0.14\n",
      "173 | acc.tr. = 68.02% | loss.tr. = 0.15 | acc.te. = 68.50% | loss.te. = 0.15\n",
      "174 | acc.tr. = 67.64% | loss.tr. = 0.15 | acc.te. = 67.84% | loss.te. = 0.15\n",
      "175 | acc.tr. = 65.93% | loss.tr. = 0.16 | acc.te. = 66.22% | loss.te. = 0.16\n",
      "176 | acc.tr. = 69.04% | loss.tr. = 0.15 | acc.te. = 69.31% | loss.te. = 0.15\n",
      "177 | acc.tr. = 70.14% | loss.tr. = 0.14 | acc.te. = 70.84% | loss.te. = 0.14\n",
      "178 | acc.tr. = 72.17% | loss.tr. = 0.14 | acc.te. = 72.82% | loss.te. = 0.14\n",
      "179 | acc.tr. = 72.98% | loss.tr. = 0.13 | acc.te. = 73.54% | loss.te. = 0.13\n",
      "180 | acc.tr. = 73.59% | loss.tr. = 0.13 | acc.te. = 74.00% | loss.te. = 0.13\n",
      "181 | acc.tr. = 73.75% | loss.tr. = 0.13 | acc.te. = 74.17% | loss.te. = 0.13\n",
      "182 | acc.tr. = 73.85% | loss.tr. = 0.13 | acc.te. = 74.36% | loss.te. = 0.13\n",
      "183 | acc.tr. = 73.71% | loss.tr. = 0.13 | acc.te. = 74.23% | loss.te. = 0.13\n",
      "184 | acc.tr. = 73.62% | loss.tr. = 0.13 | acc.te. = 74.11% | loss.te. = 0.13\n",
      "185 | acc.tr. = 73.18% | loss.tr. = 0.13 | acc.te. = 73.85% | loss.te. = 0.13\n",
      "186 | acc.tr. = 72.72% | loss.tr. = 0.13 | acc.te. = 73.21% | loss.te. = 0.13\n",
      "187 | acc.tr. = 71.45% | loss.tr. = 0.14 | acc.te. = 72.30% | loss.te. = 0.14\n",
      "188 | acc.tr. = 70.15% | loss.tr. = 0.14 | acc.te. = 70.79% | loss.te. = 0.14\n",
      "189 | acc.tr. = 68.25% | loss.tr. = 0.15 | acc.te. = 69.03% | loss.te. = 0.15\n",
      "190 | acc.tr. = 68.25% | loss.tr. = 0.15 | acc.te. = 68.86% | loss.te. = 0.15\n",
      "191 | acc.tr. = 67.44% | loss.tr. = 0.15 | acc.te. = 68.06% | loss.te. = 0.15\n",
      "192 | acc.tr. = 69.40% | loss.tr. = 0.14 | acc.te. = 70.08% | loss.te. = 0.14\n",
      "193 | acc.tr. = 70.44% | loss.tr. = 0.14 | acc.te. = 71.10% | loss.te. = 0.14\n",
      "194 | acc.tr. = 72.01% | loss.tr. = 0.14 | acc.te. = 72.70% | loss.te. = 0.14\n",
      "195 | acc.tr. = 73.07% | loss.tr. = 0.13 | acc.te. = 73.59% | loss.te. = 0.13\n",
      "196 | acc.tr. = 73.34% | loss.tr. = 0.13 | acc.te. = 74.13% | loss.te. = 0.13\n",
      "197 | acc.tr. = 73.62% | loss.tr. = 0.13 | acc.te. = 73.98% | loss.te. = 0.13\n",
      "198 | acc.tr. = 72.87% | loss.tr. = 0.13 | acc.te. = 73.68% | loss.te. = 0.13\n",
      "199 | acc.tr. = 71.71% | loss.tr. = 0.14 | acc.te. = 72.28% | loss.te. = 0.13\n",
      "200 | acc.tr. = 67.17% | loss.tr. = 0.14 | acc.te. = 67.98% | loss.te. = 0.14\n",
      "201 | acc.tr. = 65.96% | loss.tr. = 0.18 | acc.te. = 66.29% | loss.te. = 0.18\n",
      "202 | acc.tr. = 65.37% | loss.tr. = 0.15 | acc.te. = 66.20% | loss.te. = 0.15\n",
      "203 | acc.tr. = 65.20% | loss.tr. = 0.17 | acc.te. = 65.74% | loss.te. = 0.17\n",
      "204 | acc.tr. = 68.16% | loss.tr. = 0.15 | acc.te. = 69.00% | loss.te. = 0.15\n",
      "205 | acc.tr. = 70.64% | loss.tr. = 0.14 | acc.te. = 71.32% | loss.te. = 0.14\n",
      "206 | acc.tr. = 72.54% | loss.tr. = 0.13 | acc.te. = 72.92% | loss.te. = 0.13\n",
      "207 | acc.tr. = 73.81% | loss.tr. = 0.13 | acc.te. = 73.98% | loss.te. = 0.13\n",
      "208 | acc.tr. = 74.08% | loss.tr. = 0.13 | acc.te. = 74.63% | loss.te. = 0.13\n",
      "209 | acc.tr. = 74.38% | loss.tr. = 0.13 | acc.te. = 74.72% | loss.te. = 0.13\n",
      "210 | acc.tr. = 74.43% | loss.tr. = 0.13 | acc.te. = 74.92% | loss.te. = 0.13\n",
      "211 | acc.tr. = 74.30% | loss.tr. = 0.13 | acc.te. = 74.72% | loss.te. = 0.13\n",
      "212 | acc.tr. = 74.22% | loss.tr. = 0.13 | acc.te. = 74.75% | loss.te. = 0.13\n",
      "213 | acc.tr. = 73.77% | loss.tr. = 0.13 | acc.te. = 74.26% | loss.te. = 0.13\n",
      "214 | acc.tr. = 73.17% | loss.tr. = 0.13 | acc.te. = 73.83% | loss.te. = 0.13\n",
      "215 | acc.tr. = 71.49% | loss.tr. = 0.13 | acc.te. = 72.29% | loss.te. = 0.14\n",
      "216 | acc.tr. = 68.97% | loss.tr. = 0.14 | acc.te. = 69.51% | loss.te. = 0.14\n",
      "217 | acc.tr. = 66.56% | loss.tr. = 0.16 | acc.te. = 66.68% | loss.te. = 0.16\n",
      "218 | acc.tr. = 66.49% | loss.tr. = 0.15 | acc.te. = 67.04% | loss.te. = 0.15\n",
      "219 | acc.tr. = 64.48% | loss.tr. = 0.16 | acc.te. = 64.79% | loss.te. = 0.16\n",
      "220 | acc.tr. = 67.22% | loss.tr. = 0.16 | acc.te. = 67.98% | loss.te. = 0.16\n",
      "221 | acc.tr. = 69.56% | loss.tr. = 0.15 | acc.te. = 69.92% | loss.te. = 0.15\n",
      "222 | acc.tr. = 72.52% | loss.tr. = 0.14 | acc.te. = 73.13% | loss.te. = 0.14\n",
      "223 | acc.tr. = 73.94% | loss.tr. = 0.13 | acc.te. = 74.34% | loss.te. = 0.13\n",
      "224 | acc.tr. = 74.19% | loss.tr. = 0.13 | acc.te. = 74.89% | loss.te. = 0.13\n",
      "225 | acc.tr. = 74.67% | loss.tr. = 0.13 | acc.te. = 75.05% | loss.te. = 0.13\n",
      "226 | acc.tr. = 74.29% | loss.tr. = 0.13 | acc.te. = 74.79% | loss.te. = 0.13\n",
      "227 | acc.tr. = 74.46% | loss.tr. = 0.13 | acc.te. = 74.86% | loss.te. = 0.13\n",
      "228 | acc.tr. = 73.44% | loss.tr. = 0.13 | acc.te. = 74.18% | loss.te. = 0.13\n",
      "229 | acc.tr. = 72.91% | loss.tr. = 0.13 | acc.te. = 73.27% | loss.te. = 0.13\n",
      "230 | acc.tr. = 69.62% | loss.tr. = 0.14 | acc.te. = 70.06% | loss.te. = 0.14\n",
      "231 | acc.tr. = 67.18% | loss.tr. = 0.16 | acc.te. = 67.19% | loss.te. = 0.16\n",
      "232 | acc.tr. = 63.88% | loss.tr. = 0.16 | acc.te. = 64.87% | loss.te. = 0.15\n",
      "233 | acc.tr. = 65.68% | loss.tr. = 0.19 | acc.te. = 65.71% | loss.te. = 0.19\n",
      "234 | acc.tr. = 70.62% | loss.tr. = 0.14 | acc.te. = 71.19% | loss.te. = 0.14\n",
      "235 | acc.tr. = 73.15% | loss.tr. = 0.13 | acc.te. = 73.38% | loss.te. = 0.13\n",
      "236 | acc.tr. = 73.89% | loss.tr. = 0.13 | acc.te. = 74.62% | loss.te. = 0.13\n",
      "237 | acc.tr. = 74.17% | loss.tr. = 0.13 | acc.te. = 74.63% | loss.te. = 0.13\n",
      "238 | acc.tr. = 74.28% | loss.tr. = 0.13 | acc.te. = 74.80% | loss.te. = 0.13\n",
      "239 | acc.tr. = 73.97% | loss.tr. = 0.13 | acc.te. = 74.50% | loss.te. = 0.13\n",
      "240 | acc.tr. = 73.80% | loss.tr. = 0.13 | acc.te. = 74.41% | loss.te. = 0.13\n",
      "241 | acc.tr. = 72.96% | loss.tr. = 0.13 | acc.te. = 73.61% | loss.te. = 0.13\n",
      "242 | acc.tr. = 71.77% | loss.tr. = 0.13 | acc.te. = 72.57% | loss.te. = 0.13\n",
      "243 | acc.tr. = 69.27% | loss.tr. = 0.14 | acc.te. = 70.02% | loss.te. = 0.14\n",
      "244 | acc.tr. = 67.18% | loss.tr. = 0.15 | acc.te. = 67.73% | loss.te. = 0.15\n",
      "245 | acc.tr. = 64.86% | loss.tr. = 0.17 | acc.te. = 64.88% | loss.te. = 0.17\n",
      "246 | acc.tr. = 66.99% | loss.tr. = 0.16 | acc.te. = 67.54% | loss.te. = 0.16\n",
      "247 | acc.tr. = 68.05% | loss.tr. = 0.15 | acc.te. = 68.40% | loss.te. = 0.15\n",
      "248 | acc.tr. = 70.79% | loss.tr. = 0.14 | acc.te. = 71.41% | loss.te. = 0.14\n",
      "249 | acc.tr. = 73.16% | loss.tr. = 0.14 | acc.te. = 73.74% | loss.te. = 0.14\n",
      "250 | acc.tr. = 74.28% | loss.tr. = 0.13 | acc.te. = 74.81% | loss.te. = 0.13\n",
      "251 | acc.tr. = 74.83% | loss.tr. = 0.13 | acc.te. = 75.03% | loss.te. = 0.13\n",
      "252 | acc.tr. = 74.84% | loss.tr. = 0.13 | acc.te. = 75.34% | loss.te. = 0.13\n",
      "253 | acc.tr. = 74.98% | loss.tr. = 0.13 | acc.te. = 75.27% | loss.te. = 0.13\n",
      "254 | acc.tr. = 74.75% | loss.tr. = 0.13 | acc.te. = 75.33% | loss.te. = 0.13\n",
      "255 | acc.tr. = 74.86% | loss.tr. = 0.13 | acc.te. = 75.07% | loss.te. = 0.13\n",
      "256 | acc.tr. = 74.30% | loss.tr. = 0.13 | acc.te. = 74.88% | loss.te. = 0.13\n",
      "257 | acc.tr. = 74.05% | loss.tr. = 0.13 | acc.te. = 74.21% | loss.te. = 0.13\n",
      "258 | acc.tr. = 72.23% | loss.tr. = 0.13 | acc.te. = 72.90% | loss.te. = 0.13\n",
      "259 | acc.tr. = 69.42% | loss.tr. = 0.14 | acc.te. = 69.70% | loss.te. = 0.14\n",
      "260 | acc.tr. = 62.93% | loss.tr. = 0.16 | acc.te. = 63.80% | loss.te. = 0.15\n",
      "261 | acc.tr. = 64.23% | loss.tr. = 0.21 | acc.te. = 64.37% | loss.te. = 0.21\n",
      "262 | acc.tr. = 68.03% | loss.tr. = 0.15 | acc.te. = 69.03% | loss.te. = 0.15\n",
      "263 | acc.tr. = 70.66% | loss.tr. = 0.14 | acc.te. = 71.20% | loss.te. = 0.14\n",
      "264 | acc.tr. = 72.53% | loss.tr. = 0.13 | acc.te. = 72.98% | loss.te. = 0.13\n",
      "265 | acc.tr. = 73.52% | loss.tr. = 0.13 | acc.te. = 73.87% | loss.te. = 0.13\n",
      "266 | acc.tr. = 73.84% | loss.tr. = 0.13 | acc.te. = 74.43% | loss.te. = 0.13\n",
      "267 | acc.tr. = 74.04% | loss.tr. = 0.13 | acc.te. = 74.53% | loss.te. = 0.13\n",
      "268 | acc.tr. = 74.15% | loss.tr. = 0.13 | acc.te. = 74.61% | loss.te. = 0.13\n",
      "269 | acc.tr. = 74.03% | loss.tr. = 0.13 | acc.te. = 74.37% | loss.te. = 0.13\n",
      "270 | acc.tr. = 73.83% | loss.tr. = 0.13 | acc.te. = 74.30% | loss.te. = 0.13\n",
      "271 | acc.tr. = 73.39% | loss.tr. = 0.13 | acc.te. = 73.74% | loss.te. = 0.13\n",
      "272 | acc.tr. = 72.63% | loss.tr. = 0.13 | acc.te. = 73.12% | loss.te. = 0.13\n",
      "273 | acc.tr. = 71.13% | loss.tr. = 0.14 | acc.te. = 71.75% | loss.te. = 0.14\n",
      "274 | acc.tr. = 69.56% | loss.tr. = 0.14 | acc.te. = 69.98% | loss.te. = 0.14\n",
      "275 | acc.tr. = 66.60% | loss.tr. = 0.15 | acc.te. = 66.82% | loss.te. = 0.15\n",
      "276 | acc.tr. = 65.98% | loss.tr. = 0.16 | acc.te. = 66.54% | loss.te. = 0.16\n",
      "277 | acc.tr. = 65.50% | loss.tr. = 0.16 | acc.te. = 65.75% | loss.te. = 0.16\n",
      "278 | acc.tr. = 69.34% | loss.tr. = 0.15 | acc.te. = 69.87% | loss.te. = 0.15\n",
      "279 | acc.tr. = 72.49% | loss.tr. = 0.14 | acc.te. = 73.00% | loss.te. = 0.14\n",
      "280 | acc.tr. = 74.10% | loss.tr. = 0.13 | acc.te. = 74.67% | loss.te. = 0.13\n",
      "281 | acc.tr. = 74.91% | loss.tr. = 0.13 | acc.te. = 75.10% | loss.te. = 0.13\n",
      "282 | acc.tr. = 74.74% | loss.tr. = 0.13 | acc.te. = 75.31% | loss.te. = 0.13\n",
      "283 | acc.tr. = 75.13% | loss.tr. = 0.13 | acc.te. = 75.34% | loss.te. = 0.13\n",
      "284 | acc.tr. = 74.39% | loss.tr. = 0.13 | acc.te. = 74.96% | loss.te. = 0.13\n",
      "285 | acc.tr. = 74.53% | loss.tr. = 0.13 | acc.te. = 74.70% | loss.te. = 0.13\n",
      "286 | acc.tr. = 72.78% | loss.tr. = 0.13 | acc.te. = 73.37% | loss.te. = 0.13\n",
      "287 | acc.tr. = 70.81% | loss.tr. = 0.14 | acc.te. = 71.02% | loss.te. = 0.14\n",
      "288 | acc.tr. = 65.27% | loss.tr. = 0.15 | acc.te. = 66.23% | loss.te. = 0.15\n",
      "289 | acc.tr. = 66.85% | loss.tr. = 0.20 | acc.te. = 66.68% | loss.te. = 0.20\n",
      "290 | acc.tr. = 70.67% | loss.tr. = 0.14 | acc.te. = 71.29% | loss.te. = 0.14\n",
      "291 | acc.tr. = 73.14% | loss.tr. = 0.13 | acc.te. = 73.29% | loss.te. = 0.13\n",
      "292 | acc.tr. = 73.91% | loss.tr. = 0.13 | acc.te. = 74.35% | loss.te. = 0.13\n",
      "293 | acc.tr. = 74.70% | loss.tr. = 0.13 | acc.te. = 74.82% | loss.te. = 0.13\n",
      "294 | acc.tr. = 74.61% | loss.tr. = 0.13 | acc.te. = 75.21% | loss.te. = 0.13\n",
      "295 | acc.tr. = 74.77% | loss.tr. = 0.13 | acc.te. = 74.82% | loss.te. = 0.13\n",
      "296 | acc.tr. = 74.53% | loss.tr. = 0.13 | acc.te. = 75.11% | loss.te. = 0.13\n",
      "297 | acc.tr. = 74.32% | loss.tr. = 0.13 | acc.te. = 74.50% | loss.te. = 0.13\n",
      "298 | acc.tr. = 73.72% | loss.tr. = 0.13 | acc.te. = 74.38% | loss.te. = 0.13\n",
      "299 | acc.tr. = 72.97% | loss.tr. = 0.13 | acc.te. = 73.20% | loss.te. = 0.13\n",
      "300 | acc.tr. = 71.14% | loss.tr. = 0.14 | acc.te. = 71.74% | loss.te. = 0.14\n",
      "301 | acc.tr. = 68.53% | loss.tr. = 0.15 | acc.te. = 69.10% | loss.te. = 0.15\n",
      "302 | acc.tr. = 66.49% | loss.tr. = 0.15 | acc.te. = 66.90% | loss.te. = 0.15\n",
      "303 | acc.tr. = 63.94% | loss.tr. = 0.17 | acc.te. = 64.02% | loss.te. = 0.17\n",
      "304 | acc.tr. = 66.53% | loss.tr. = 0.16 | acc.te. = 67.04% | loss.te. = 0.16\n",
      "305 | acc.tr. = 68.82% | loss.tr. = 0.15 | acc.te. = 69.04% | loss.te. = 0.15\n",
      "306 | acc.tr. = 71.67% | loss.tr. = 0.14 | acc.te. = 72.17% | loss.te. = 0.14\n",
      "307 | acc.tr. = 74.17% | loss.tr. = 0.13 | acc.te. = 74.53% | loss.te. = 0.13\n",
      "308 | acc.tr. = 74.77% | loss.tr. = 0.13 | acc.te. = 75.31% | loss.te. = 0.13\n",
      "309 | acc.tr. = 75.33% | loss.tr. = 0.13 | acc.te. = 75.42% | loss.te. = 0.13\n",
      "310 | acc.tr. = 74.99% | loss.tr. = 0.13 | acc.te. = 75.53% | loss.te. = 0.13\n",
      "311 | acc.tr. = 75.35% | loss.tr. = 0.13 | acc.te. = 75.43% | loss.te. = 0.13\n",
      "312 | acc.tr. = 74.84% | loss.tr. = 0.13 | acc.te. = 75.34% | loss.te. = 0.13\n",
      "313 | acc.tr. = 75.03% | loss.tr. = 0.13 | acc.te. = 75.12% | loss.te. = 0.13\n",
      "314 | acc.tr. = 73.94% | loss.tr. = 0.13 | acc.te. = 74.54% | loss.te. = 0.13\n",
      "315 | acc.tr. = 73.38% | loss.tr. = 0.13 | acc.te. = 73.68% | loss.te. = 0.13\n",
      "316 | acc.tr. = 70.33% | loss.tr. = 0.14 | acc.te. = 70.82% | loss.te. = 0.13\n",
      "317 | acc.tr. = 67.79% | loss.tr. = 0.16 | acc.te. = 67.72% | loss.te. = 0.16\n",
      "318 | acc.tr. = 64.53% | loss.tr. = 0.15 | acc.te. = 65.53% | loss.te. = 0.15\n",
      "319 | acc.tr. = 66.10% | loss.tr. = 0.19 | acc.te. = 66.02% | loss.te. = 0.19\n",
      "320 | acc.tr. = 71.28% | loss.tr. = 0.14 | acc.te. = 71.91% | loss.te. = 0.14\n",
      "321 | acc.tr. = 73.98% | loss.tr. = 0.13 | acc.te. = 74.01% | loss.te. = 0.13\n",
      "322 | acc.tr. = 74.51% | loss.tr. = 0.13 | acc.te. = 75.06% | loss.te. = 0.13\n",
      "323 | acc.tr. = 74.88% | loss.tr. = 0.13 | acc.te. = 75.01% | loss.te. = 0.13\n",
      "324 | acc.tr. = 74.94% | loss.tr. = 0.13 | acc.te. = 75.35% | loss.te. = 0.13\n",
      "325 | acc.tr. = 74.78% | loss.tr. = 0.13 | acc.te. = 75.04% | loss.te. = 0.13\n",
      "326 | acc.tr. = 74.78% | loss.tr. = 0.13 | acc.te. = 75.10% | loss.te. = 0.13\n",
      "327 | acc.tr. = 74.33% | loss.tr. = 0.13 | acc.te. = 74.61% | loss.te. = 0.13\n",
      "328 | acc.tr. = 73.80% | loss.tr. = 0.13 | acc.te. = 74.21% | loss.te. = 0.13\n",
      "329 | acc.tr. = 72.68% | loss.tr. = 0.13 | acc.te. = 73.10% | loss.te. = 0.13\n",
      "330 | acc.tr. = 71.03% | loss.tr. = 0.14 | acc.te. = 71.31% | loss.te. = 0.14\n",
      "331 | acc.tr. = 68.20% | loss.tr. = 0.15 | acc.te. = 68.76% | loss.te. = 0.15\n",
      "332 | acc.tr. = 66.16% | loss.tr. = 0.15 | acc.te. = 66.31% | loss.te. = 0.15\n",
      "333 | acc.tr. = 63.69% | loss.tr. = 0.17 | acc.te. = 63.66% | loss.te. = 0.17\n",
      "334 | acc.tr. = 66.48% | loss.tr. = 0.16 | acc.te. = 66.81% | loss.te. = 0.16\n",
      "335 | acc.tr. = 70.10% | loss.tr. = 0.15 | acc.te. = 70.55% | loss.te. = 0.15\n",
      "336 | acc.tr. = 73.07% | loss.tr. = 0.14 | acc.te. = 73.72% | loss.te. = 0.14\n",
      "337 | acc.tr. = 74.99% | loss.tr. = 0.13 | acc.te. = 75.29% | loss.te. = 0.13\n",
      "338 | acc.tr. = 75.34% | loss.tr. = 0.13 | acc.te. = 75.72% | loss.te. = 0.13\n",
      "339 | acc.tr. = 75.69% | loss.tr. = 0.13 | acc.te. = 75.72% | loss.te. = 0.13\n",
      "340 | acc.tr. = 75.49% | loss.tr. = 0.12 | acc.te. = 75.84% | loss.te. = 0.12\n",
      "341 | acc.tr. = 75.67% | loss.tr. = 0.12 | acc.te. = 75.69% | loss.te. = 0.12\n",
      "342 | acc.tr. = 75.39% | loss.tr. = 0.12 | acc.te. = 75.72% | loss.te. = 0.12\n",
      "343 | acc.tr. = 75.57% | loss.tr. = 0.12 | acc.te. = 75.69% | loss.te. = 0.12\n",
      "344 | acc.tr. = 75.09% | loss.tr. = 0.12 | acc.te. = 75.53% | loss.te. = 0.12\n",
      "345 | acc.tr. = 75.26% | loss.tr. = 0.13 | acc.te. = 75.39% | loss.te. = 0.13\n",
      "346 | acc.tr. = 74.10% | loss.tr. = 0.13 | acc.te. = 74.77% | loss.te. = 0.13\n",
      "347 | acc.tr. = 73.37% | loss.tr. = 0.13 | acc.te. = 73.54% | loss.te. = 0.13\n",
      "348 | acc.tr. = 69.32% | loss.tr. = 0.14 | acc.te. = 69.84% | loss.te. = 0.14\n",
      "349 | acc.tr. = 67.37% | loss.tr. = 0.17 | acc.te. = 67.36% | loss.te. = 0.17\n",
      "350 | acc.tr. = 65.42% | loss.tr. = 0.15 | acc.te. = 66.30% | loss.te. = 0.15\n",
      "351 | acc.tr. = 65.61% | loss.tr. = 0.18 | acc.te. = 65.41% | loss.te. = 0.18\n",
      "352 | acc.tr. = 70.21% | loss.tr. = 0.14 | acc.te. = 70.84% | loss.te. = 0.14\n",
      "353 | acc.tr. = 72.92% | loss.tr. = 0.14 | acc.te. = 73.30% | loss.te. = 0.14\n",
      "354 | acc.tr. = 73.87% | loss.tr. = 0.13 | acc.te. = 74.45% | loss.te. = 0.13\n",
      "355 | acc.tr. = 74.76% | loss.tr. = 0.13 | acc.te. = 74.80% | loss.te. = 0.13\n",
      "356 | acc.tr. = 74.83% | loss.tr. = 0.13 | acc.te. = 75.14% | loss.te. = 0.13\n",
      "357 | acc.tr. = 74.91% | loss.tr. = 0.13 | acc.te. = 75.03% | loss.te. = 0.13\n",
      "358 | acc.tr. = 74.86% | loss.tr. = 0.13 | acc.te. = 75.13% | loss.te. = 0.13\n",
      "359 | acc.tr. = 74.67% | loss.tr. = 0.13 | acc.te. = 74.89% | loss.te. = 0.13\n",
      "360 | acc.tr. = 74.36% | loss.tr. = 0.13 | acc.te. = 74.62% | loss.te. = 0.13\n",
      "361 | acc.tr. = 73.79% | loss.tr. = 0.13 | acc.te. = 74.04% | loss.te. = 0.13\n",
      "362 | acc.tr. = 72.90% | loss.tr. = 0.13 | acc.te. = 73.21% | loss.te. = 0.13\n",
      "363 | acc.tr. = 71.26% | loss.tr. = 0.14 | acc.te. = 71.67% | loss.te. = 0.14\n",
      "364 | acc.tr. = 69.50% | loss.tr. = 0.14 | acc.te. = 69.69% | loss.te. = 0.14\n",
      "365 | acc.tr. = 66.62% | loss.tr. = 0.15 | acc.te. = 66.82% | loss.te. = 0.16\n",
      "366 | acc.tr. = 65.87% | loss.tr. = 0.16 | acc.te. = 66.14% | loss.te. = 0.16\n",
      "367 | acc.tr. = 65.06% | loss.tr. = 0.16 | acc.te. = 65.14% | loss.te. = 0.16\n",
      "368 | acc.tr. = 68.97% | loss.tr. = 0.15 | acc.te. = 69.56% | loss.te. = 0.15\n",
      "369 | acc.tr. = 72.64% | loss.tr. = 0.14 | acc.te. = 73.16% | loss.te. = 0.14\n",
      "370 | acc.tr. = 74.72% | loss.tr. = 0.13 | acc.te. = 75.13% | loss.te. = 0.13\n",
      "371 | acc.tr. = 75.60% | loss.tr. = 0.13 | acc.te. = 75.75% | loss.te. = 0.13\n",
      "372 | acc.tr. = 75.61% | loss.tr. = 0.13 | acc.te. = 75.85% | loss.te. = 0.12\n",
      "373 | acc.tr. = 75.84% | loss.tr. = 0.12 | acc.te. = 75.81% | loss.te. = 0.12\n",
      "374 | acc.tr. = 75.64% | loss.tr. = 0.12 | acc.te. = 75.91% | loss.te. = 0.12\n",
      "375 | acc.tr. = 75.83% | loss.tr. = 0.12 | acc.te. = 75.79% | loss.te. = 0.12\n",
      "376 | acc.tr. = 75.50% | loss.tr. = 0.12 | acc.te. = 75.78% | loss.te. = 0.12\n",
      "377 | acc.tr. = 75.66% | loss.tr. = 0.12 | acc.te. = 75.65% | loss.te. = 0.12\n",
      "378 | acc.tr. = 75.12% | loss.tr. = 0.12 | acc.te. = 75.55% | loss.te. = 0.12\n",
      "379 | acc.tr. = 75.19% | loss.tr. = 0.13 | acc.te. = 75.28% | loss.te. = 0.13\n",
      "380 | acc.tr. = 73.78% | loss.tr. = 0.13 | acc.te. = 74.31% | loss.te. = 0.13\n",
      "381 | acc.tr. = 72.23% | loss.tr. = 0.13 | acc.te. = 72.37% | loss.te. = 0.13\n",
      "382 | acc.tr. = 66.88% | loss.tr. = 0.14 | acc.te. = 67.52% | loss.te. = 0.14\n",
      "383 | acc.tr. = 67.01% | loss.tr. = 0.19 | acc.te. = 66.78% | loss.te. = 0.19\n",
      "384 | acc.tr. = 69.46% | loss.tr. = 0.14 | acc.te. = 70.00% | loss.te. = 0.14\n",
      "385 | acc.tr. = 71.05% | loss.tr. = 0.14 | acc.te. = 71.64% | loss.te. = 0.14\n",
      "386 | acc.tr. = 72.30% | loss.tr. = 0.13 | acc.te. = 72.75% | loss.te. = 0.13\n",
      "387 | acc.tr. = 73.71% | loss.tr. = 0.13 | acc.te. = 74.03% | loss.te. = 0.13\n",
      "388 | acc.tr. = 73.93% | loss.tr. = 0.13 | acc.te. = 74.32% | loss.te. = 0.13\n",
      "389 | acc.tr. = 74.66% | loss.tr. = 0.13 | acc.te. = 74.84% | loss.te. = 0.13\n",
      "390 | acc.tr. = 74.52% | loss.tr. = 0.13 | acc.te. = 74.83% | loss.te. = 0.13\n",
      "391 | acc.tr. = 74.66% | loss.tr. = 0.13 | acc.te. = 74.88% | loss.te. = 0.13\n",
      "392 | acc.tr. = 74.39% | loss.tr. = 0.13 | acc.te. = 74.79% | loss.te. = 0.13\n",
      "393 | acc.tr. = 74.13% | loss.tr. = 0.13 | acc.te. = 74.36% | loss.te. = 0.13\n",
      "394 | acc.tr. = 73.53% | loss.tr. = 0.13 | acc.te. = 73.94% | loss.te. = 0.13\n",
      "395 | acc.tr. = 72.86% | loss.tr. = 0.13 | acc.te. = 73.23% | loss.te. = 0.13\n",
      "396 | acc.tr. = 71.74% | loss.tr. = 0.14 | acc.te. = 71.97% | loss.te. = 0.14\n",
      "397 | acc.tr. = 70.15% | loss.tr. = 0.14 | acc.te. = 70.63% | loss.te. = 0.14\n",
      "398 | acc.tr. = 69.13% | loss.tr. = 0.15 | acc.te. = 69.30% | loss.te. = 0.15\n",
      "399 | acc.tr. = 67.49% | loss.tr. = 0.15 | acc.te. = 67.52% | loss.te. = 0.15\n",
      "\n",
      "FINAL 400 ::: acc.tr. = 68.47% | loss.tr. = 0.15 | acc.te. = 68.61% | loss.te. = 0.15\n"
     ]
    }
   ],
   "source": [
    "learning_rate=10\n",
    "\n",
    "my_net = func_initialize_network(size_input, size_hidden, size_output)\n",
    "\n",
    "#If you need to load the initial values of the connection matrices :\n",
    "#my_net['W1'] = np.loadtxt(\"ic_v4_W1.dat\") # the shape should be  784 х size_hidden\n",
    "#my_net['W2'] = np.loadtxt(\"ic_v4_W2.dat\") # the shape should be  size_hidden x 10\n",
    "\n",
    "# Otherwise get new random initial conditions :\n",
    "initial_W1 = my_net['W1']\n",
    "initial_W2 = my_net['W2']\n",
    "\n",
    "acc_list_train = []\n",
    "loss_list_train = []\n",
    "\n",
    "acc_list_test = []\n",
    "loss_list_test = []\n",
    "\n",
    "#N = np.size(x_train,0)\n",
    "\n",
    "for epo in range(400) :    \n",
    "  # Training set\n",
    "  y_predicted_train, my_net = forward_propagation(x_train, my_net, noise_training)\n",
    "  acc_list_train, loss_list_train = save_accuracy_loss(y_train, y_predicted_train, acc_list_train, loss_list_train)\n",
    "  # Testing set\n",
    "  y_predicted_test, my_net_temp = forward_propagation(x_test, my_net, noise_testing)\n",
    "  acc_list_test, loss_list_test = save_accuracy_loss(y_test, y_predicted_test, acc_list_test, loss_list_test)\n",
    "  print(str(epo)+\" | acc.tr. = \"+('%.2f' % acc_list_train[-1])+\"% | loss.tr. = \"+('%.2f' % loss_list_train[-1])+\" | acc.te. = \"+('%.2f' % acc_list_test[-1])+\"% | loss.te. = \"+('%.2f' % loss_list_test[-1]))\n",
    "  # Backpropagation\n",
    "  my_net = backward_propagation(x_train, y_train, my_net, learning_rate)\n",
    "\n",
    "y_predicted_train, my_net_temp = forward_propagation(x_train, my_net, noise_training)\n",
    "acc_list_train, loss_list_train = save_accuracy_loss(y_train, y_predicted_train, acc_list_train, loss_list_train)\n",
    "y_predicted_test, my_net_temp = forward_propagation(x_test, my_net, noise_testing)\n",
    "acc_list_test, loss_list_test = save_accuracy_loss(y_test, y_predicted_test, acc_list_test, loss_list_test)\n",
    "print(\"\\nFINAL \"+str(epo+1)+\" ::: acc.tr. = \"+('%.2f' % acc_list_train[-1])+\"% | loss.tr. = \"+('%.2f' % loss_list_train[-1])+\" | acc.te. = \"+('%.2f' % acc_list_test[-1])+\"% | loss.te. = \"+('%.2f' % loss_list_test[-1]))\n",
    "\n",
    "# Generate of array with accuracies\n",
    "to_file = np.zeros((len(acc_list_train),5))\n",
    "to_file[:,0] = list(range(len(acc_list_train)))\n",
    "to_file[:,1] = acc_list_train\n",
    "to_file[:,2] = acc_list_test\n",
    "to_file[:,3] = loss_list_train\n",
    "to_file[:,4] = loss_list_test\n",
    "\n",
    "# And save it\n",
    "np.savetxt(\"examples/net01_training_process.dat\",to_file)\n",
    "\n",
    "# Save initial conditions for this training\n",
    "np.savetxt(\"examples/net01_ic_W1.dat\",initial_W1)\n",
    "np.savetxt(\"examples/net01_ic_W2.dat\",initial_W1)\n",
    "\n",
    "# Save new matrices of trained net\n",
    "W1 = my_net['W1']\n",
    "W2 = my_net['W2']\n",
    "np.savetxt(\"examples/net01_trained_W1.dat\",W1)\n",
    "np.savetxt(\"examples/net01_trained_W2.dat\",W2)"
   ]
  },
  {
   "cell_type": "code",
   "execution_count": 24,
   "metadata": {
    "colab": {
     "base_uri": "https://localhost:8080/",
     "height": 482
    },
    "id": "aNiO8gsfwvf1",
    "outputId": "bb03c5f0-c47c-48f4-cecc-89b62a6269b4",
    "tags": []
   },
   "outputs": [
    {
     "data": {
      "text/plain": [
       "<matplotlib.legend.Legend at 0x33b74ffa0>"
      ]
     },
     "execution_count": 24,
     "metadata": {},
     "output_type": "execute_result"
    },
    {
     "data": {
      "image/png": "[encoded data removed]",
      "text/plain": [
       "<Figure size 1000x500 with 2 Axes>"
      ]
     },
     "metadata": {},
     "output_type": "display_data"
    }
   ],
   "source": [
    "fig = plt.figure(figsize=(10,5))\n",
    "ax1 = fig.add_subplot(121)\n",
    "ax1.plot(acc_list_train, label=\"training\")\n",
    "ax1.plot(acc_list_test, label=\"testing\")\n",
    "ax1.set_xlabel(\"epoch\")\n",
    "\n",
    "ax1.set_ylabel(\"accuracy\")\n",
    "ax1.legend()\n",
    "\n",
    "ax1 = fig.add_subplot(122)\n",
    "ax1.plot(loss_list_train, label=\"training\")\n",
    "ax1.plot(loss_list_test, label=\"testing\")\n",
    "ax1.set_xlabel(\"epoch\")\n",
    "ax1.set_ylabel(\"loss function\")\n",
    "ax1.legend()\n"
   ]
  },
  {
   "cell_type": "code",
   "execution_count": null,
   "metadata": {},
   "outputs": [],
   "source": []
  },
  {
   "cell_type": "markdown",
   "metadata": {},
   "source": [
    "# Import trained network in order to introduce the noise"
   ]
  },
  {
   "cell_type": "code",
   "execution_count": 31,
   "metadata": {
    "tags": []
   },
   "outputs": [
    {
     "name": "stdout",
     "output_type": "stream",
     "text": [
      "Accuracy for training data: 0.6199333333333333\n",
      "Accuracy for testing data: 0.6238\n"
     ]
    }
   ],
   "source": [
    "    \n",
    "y_train_digit = np.argmax(y_train, axis=1)\n",
    "y_test_digit = np.argmax(y_test, axis=1)\n",
    "\n",
    "#x_hidd = sigmoid(np.dot(x_train,W1))\n",
    "# np.shape(np.dot(x_hidd,W2))\n",
    "W1=np.loadtxt(\"examples/net01_trained_W1.dat\")\n",
    "W2=np.loadtxt(\"examples/net01_trained_W2.dat\")\n",
    "N_input_neurons=np.dot(x_train,W1)\n",
    "hidden_layer=func_sigmoid(np.dot(x_train,W1))\n",
    "\n",
    "# Calculate the accuracy on training dataset\n",
    "with open('examples/net01_added_noise_training_data.txt', 'w') as f:\n",
    "    for D in np.arange (0,1,0.005):\n",
    "        hidden_noise_layer=hidden_layer*(1+np.sqrt(2*D)*noise_training)   \n",
    "        N_output_neurons= np.dot(hidden_noise_layer,W2)\n",
    "        ANN_resp = np.argmax(N_output_neurons, axis=1)\n",
    "        Accuracy_noise_train=np.sum(y_train_digit==ANN_resp)/len(ANN_resp)\n",
    "        f.write(f'{D} {Accuracy_noise_train}\\n')\n",
    "print(f'Accuracy for training data: {Accuracy_noise_train}')\n",
    "\n",
    "N_input_neurons=np.dot(x_test,W1)\n",
    "hidden_layer=func_sigmoid(np.dot(x_test,W1))\n",
    "\n",
    "# Calculate the accuracy on testing dataset\n",
    "with open('examples/net01_added_noise_testing_data.txt', 'w') as f:\n",
    "    for D in np.arange (0,1,0.005):  # Change the noise intensity in the loop\n",
    "        hidden_noise_layer2=hidden_layer*(1+np.sqrt(2*D)*noise_testing)\n",
    "        N_output_neurons2= np.dot(hidden_noise_layer2,W2)\n",
    "        ANN_resp2 = np.argmax(N_output_neurons2, axis=1)\n",
    "        Accuracy_noise_test=np.sum(y_test_digit==ANN_resp2)/len(ANN_resp2)\n",
    "        f.write(f'{D} {Accuracy_noise_test}\\n')\n",
    "print(f'Accuracy for testing data: {Accuracy_noise_test}')\n"
   ]
  },
  {
   "cell_type": "code",
   "execution_count": null,
   "metadata": {},
   "outputs": [],
   "source": []
  },
  {
   "cell_type": "code",
   "execution_count": 33,
   "metadata": {
    "scrolled": true,
    "tags": []
   },
   "outputs": [
    {
     "data": {
      "image/png": "[encoded data removed]",
      "text/plain": [
       "<Figure size 1000x500 with 1 Axes>"
      ]
     },
     "metadata": {},
     "output_type": "display_data"
    }
   ],
   "source": [
    "file1 = np.loadtxt('examples/net01_added_noise_testing_data.txt')\n",
    "#file2 = ...\n",
    "#file3 = ...\n",
    "#file4 = ...\n",
    "fig = plt.figure(figsize=(10,5))\n",
    "ax1 = fig.add_subplot(111)\n",
    "ax1.plot(file1[:, 0], file1[:, 1], label='Ak=0')\n",
    "#ax1.plot(file2[:, 0], file2[:, 1], label='Ak=0.001')\n",
    "#ax1.plot(file3[:, 0], file3[:, 1], label='Ak=0.1')\n",
    "#ax1.plot(file4[:, 0], file4[:, 1], label='Ak=0.5')\n",
    "\n",
    "ax1.set_xlabel('D')\n",
    "ax1.set_ylabel('Accuracy')\n",
    "ax1.legend()\n",
    "ax1.set_xlim([0,1])\n",
    "ax1.set_ylim([0,1])\n",
    "fig.savefig('figure.pdf')"
   ]
  },
  {
   "cell_type": "code",
   "execution_count": null,
   "metadata": {},
   "outputs": [],
   "source": []
  }
 ],
 "metadata": {
  "colab": {
   "provenance": []
  },
  "kernelspec": {
   "display_name": "Python 3 (ipykernel)",
   "language": "python",
   "name": "python3"
  },
  "language_info": {
   "codemirror_mode": {
    "name": "ipython",
    "version": 3
   },
   "file_extension": ".py",
   "mimetype": "text/x-python",
   "name": "python",
   "nbconvert_exporter": "python",
   "pygments_lexer": "ipython3",
   "version": "3.10.10"
  }
 },
 "nbformat": 4,
 "nbformat_minor": 4
}
